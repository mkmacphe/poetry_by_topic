{
 "cells": [
  {
   "cell_type": "code",
   "execution_count": 165,
   "metadata": {
    "collapsed": true
   },
   "outputs": [],
   "source": [
    "from bs4 import BeautifulSoup\n",
    "import urllib\n",
    "from profanity import profanity\n",
    "from random import shuffle"
   ]
  },
  {
   "cell_type": "code",
   "execution_count": 156,
   "metadata": {
    "collapsed": true
   },
   "outputs": [],
   "source": [
    "def make_url(search_string):\n",
    "    search = search_string.replace(\" \", \"%20\")\n",
    "    full = \"https://www.poetryfoundation.org/search?query=\" + search + \"&refinement=poems\"\n",
    "    return full"
   ]
  },
  {
   "cell_type": "code",
   "execution_count": 157,
   "metadata": {},
   "outputs": [],
   "source": [
    "def get_links(url):\n",
    "    r = urllib.urlopen(url).read()\n",
    "    soup = BeautifulSoup(r, \"lxml\")\n",
    "    links = soup.find_all(\"h2\", class_=\"c-hdgSans c-hdgSans_2\")\n",
    "    for i in range(len(links)):\n",
    "        links[i] = links[i].a[\"href\"]\n",
    "    return(links)"
   ]
  },
  {
   "cell_type": "code",
   "execution_count": 158,
   "metadata": {},
   "outputs": [],
   "source": [
    "def get_poem(url):\n",
    "    r = urllib.urlopen(url).read()\n",
    "    soup = BeautifulSoup(r, \"lxml\")\n",
    "    lines = []\n",
    "    poem = soup.find(\"div\", class_=\"o-poem\")\n",
    "    if poem:\n",
    "        lines = poem.find_all(\"div\")\n",
    "    out = []\n",
    "    if len(lines) > 300:\n",
    "        lines = lines[:201]\n",
    "    for line in lines:\n",
    "        poem_line = line.get_text().replace(u'\\r ', '')\n",
    "        if all(ord(char) < 128 for char in poem_line) and not profanity.contains_profanity(poem_line):\n",
    "            out.append(poem_line)\n",
    "    return out"
   ]
  },
  {
   "cell_type": "code",
   "execution_count": 159,
   "metadata": {},
   "outputs": [],
   "source": [
    "def get_poems_from_page(url):\n",
    "    links = get_links(url)\n",
    "    poems = []\n",
    "    for link in links:\n",
    "        poems.append(get_poem(link))\n",
    "    return poems\n",
    "\n",
    "temp = get_poems_from_page(make_url(\"sheep\"))"
   ]
  },
  {
   "cell_type": "code",
   "execution_count": 179,
   "metadata": {},
   "outputs": [],
   "source": [
    "def combine_poems(list1, list2):\n",
    "    combined = list1 + list2\n",
    "    shuffle(combined)\n",
    "    combined = [\"\\n\".join(x) for x in combined]\n",
    "    combined = \"\\n\".join(combined)\n",
    "    return combined"
   ]
  },
  {
   "cell_type": "code",
   "execution_count": 183,
   "metadata": {},
   "outputs": [],
   "source": [
    "def get_all_poems(search_string, num_pages):\n",
    "    url = make_url(search_string)\n",
    "    poems = []\n",
    "    for i in range(1, num_pages + 1):\n",
    "        page_poems = get_poems_from_page(url + '&page=' + str(i))\n",
    "        poems += page_poems\n",
    "    return poems"
   ]
  },
  {
   "cell_type": "code",
   "execution_count": 185,
   "metadata": {},
   "outputs": [],
   "source": [
    "sheep_poems = get_all_poems('sheep', 11)"
   ]
  },
  {
   "cell_type": "code",
   "execution_count": 189,
   "metadata": {},
   "outputs": [],
   "source": [
    "sheep_string = [\"\\n\".join(x) for x in sheep_poems]\n",
    "sheep_string = \"\\n\".join(sheep_string)"
   ]
  },
  {
   "cell_type": "code",
   "execution_count": 191,
   "metadata": {},
   "outputs": [],
   "source": [
    "with open(\"sheep-data/input2.txt\", \"w\") as text_file:\n",
    "    text_file.write(sheep_string)"
   ]
  },
  {
   "cell_type": "code",
   "execution_count": null,
   "metadata": {
    "collapsed": true
   },
   "outputs": [],
   "source": []
  }
 ],
 "metadata": {
  "kernelspec": {
   "display_name": "Python 2",
   "language": "python",
   "name": "python2"
  },
  "language_info": {
   "codemirror_mode": {
    "name": "ipython",
    "version": 2
   },
   "file_extension": ".py",
   "mimetype": "text/x-python",
   "name": "python",
   "nbconvert_exporter": "python",
   "pygments_lexer": "ipython2",
   "version": "2.7.14"
  }
 },
 "nbformat": 4,
 "nbformat_minor": 2
}
