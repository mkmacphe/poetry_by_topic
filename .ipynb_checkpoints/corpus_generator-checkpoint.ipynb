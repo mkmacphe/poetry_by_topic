{
 "cells": [
  {
   "cell_type": "code",
   "execution_count": 30,
   "metadata": {
    "collapsed": true
   },
   "outputs": [],
   "source": [
    "from bs4 import BeautifulSoup\n",
    "import urllib"
   ]
  },
  {
   "cell_type": "code",
   "execution_count": 31,
   "metadata": {
    "collapsed": true
   },
   "outputs": [],
   "source": [
    "def make_url(search_string):\n",
    "    search = search_string.replace(\" \", \"%20\")\n",
    "    full = \"https://www.poetryfoundation.org/search?query=\" + search + \"&refinement=poems\"\n",
    "    return full"
   ]
  },
  {
   "cell_type": "code",
   "execution_count": 32,
   "metadata": {},
   "outputs": [],
   "source": [
    "def get_links(url):\n",
    "    r = urllib.urlopen(url).read()\n",
    "    soup = BeautifulSoup(r, \"lxml\")\n",
    "    links = soup.find_all(\"h2\", class_=\"c-hdgSans c-hdgSans_2\")\n",
    "    for i in range(len(links)):\n",
    "        links[i] = links[i].a[\"href\"]\n",
    "    return(links)"
   ]
  },
  {
   "cell_type": "code",
   "execution_count": 33,
   "metadata": {},
   "outputs": [],
   "source": [
    "temp = get_links(\"https://www.poetryfoundation.org/search?query=grown%20man&refinement=poems\")"
   ]
  },
  {
   "cell_type": "code",
   "execution_count": 34,
   "metadata": {},
   "outputs": [
    {
     "data": {
      "text/plain": [
       "['https://www.poetryfoundation.org/poems/51133/song-of-the-round-man',\n",
       " 'https://www.poetryfoundation.org/poems/48339/the-more-a-man-has-the-more-a-man-wants',\n",
       " 'https://www.poetryfoundation.org/poems/43702/the-four-ages-of-man-56d22282befab',\n",
       " 'https://www.poetryfoundation.org/poems/52885/crying-in-front-of-a-man',\n",
       " 'https://www.poetryfoundation.org/poems/55261/the-blind-man-56d236a5e1ac2',\n",
       " 'https://www.poetryfoundation.org/poetrymagazine/poems/90280/dawn-of-man',\n",
       " 'https://www.poetryfoundation.org/poems/43754/an-epistle-containing-the-strange-medical-experience-of-karshish-the-arab-physician',\n",
       " 'https://www.poetryfoundation.org/poetrymagazine/poems/58361/drybridge',\n",
       " 'https://www.poetryfoundation.org/poems/52939/big-city',\n",
       " 'https://www.poetryfoundation.org/poetrymagazine/poems/51703/sad-and-alone',\n",
       " 'https://www.poetryfoundation.org/poems/52785/spinning-56d231894ee8b',\n",
       " 'https://www.poetryfoundation.org/poetrymagazine/poems/54655/the-land-of-nod-56d23541314b1',\n",
       " 'https://www.poetryfoundation.org/poetrymagazine/poems/92389/the-process-589363fbd1dc9',\n",
       " 'https://www.poetryfoundation.org/poems/43752/a-death-in-the-desert-56d222942c57c',\n",
       " 'https://www.poetryfoundation.org/poems/45745/paradise-lost-book-9-1674-version',\n",
       " 'https://www.poetryfoundation.org/poems/45307/the-triumph-of-time-56d224c3d1e6c',\n",
       " 'https://www.poetryfoundation.org/poems/46374/the-american-way',\n",
       " 'https://www.poetryfoundation.org/poems/45748/paradise-lost-book-12-1674-version',\n",
       " 'https://www.poetryfoundation.org/poems/45295/laus-veneris',\n",
       " 'https://www.poetryfoundation.org/poems/44172/absalom-and-achitophel']"
      ]
     },
     "execution_count": 34,
     "metadata": {},
     "output_type": "execute_result"
    }
   ],
   "source": [
    "temp"
   ]
  },
  {
   "cell_type": "code",
   "execution_count": null,
   "metadata": {
    "collapsed": true
   },
   "outputs": [],
   "source": []
  }
 ],
 "metadata": {
  "kernelspec": {
   "display_name": "Python 2",
   "language": "python",
   "name": "python2"
  },
  "language_info": {
   "codemirror_mode": {
    "name": "ipython",
    "version": 2
   },
   "file_extension": ".py",
   "mimetype": "text/x-python",
   "name": "python",
   "nbconvert_exporter": "python",
   "pygments_lexer": "ipython2",
   "version": "2.7.14"
  }
 },
 "nbformat": 4,
 "nbformat_minor": 2
}
