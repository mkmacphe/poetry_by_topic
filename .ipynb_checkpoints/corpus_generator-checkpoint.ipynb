{
 "cells": [
  {
   "cell_type": "code",
   "execution_count": 15,
   "metadata": {
    "collapsed": true
   },
   "outputs": [],
   "source": [
    "from bs4 import BeautifulSoup\n",
    "import urllib"
   ]
  },
  {
   "cell_type": "code",
   "execution_count": 16,
   "metadata": {
    "collapsed": true
   },
   "outputs": [],
   "source": [
    "def make_url(search_string):\n",
    "    search = search_string.replace(\" \", \"%20\")\n",
    "    full = \"https://www.poetryfoundation.org/search?query=\" + search + \"&refinement=poems\"\n",
    "    return full"
   ]
  },
  {
   "cell_type": "code",
   "execution_count": 21,
   "metadata": {},
   "outputs": [],
   "source": [
    "def get_links(url):\n",
    "    r = urllib.urlopen(url).read()\n",
    "    soup = BeautifulSoup(r, \"lxml\")\n",
    "    links = soup.find_all(\"h2\", class_=\"c-hdgSans c-hdgSans_2\")\n",
    "    return(links)"
   ]
  },
  {
   "cell_type": "code",
   "execution_count": 22,
   "metadata": {},
   "outputs": [
    {
     "data": {
      "text/plain": [
       "[<h2 class=\"c-hdgSans c-hdgSans_2\"><a href=\"https://www.poetryfoundation.org/poems/51133/song-of-the-round-man\">Song of the Round Man</a>\\n</h2>,\n",
       " <h2 class=\"c-hdgSans c-hdgSans_2\"><a href=\"https://www.poetryfoundation.org/poems/48339/the-more-a-man-has-the-more-a-man-wants\">The More a Man Has the More a Man Wants</a>\\n</h2>,\n",
       " <h2 class=\"c-hdgSans c-hdgSans_2\"><a href=\"https://www.poetryfoundation.org/poems/43702/the-four-ages-of-man-56d22282befab\">The Four Ages of Man</a>\\n</h2>,\n",
       " <h2 class=\"c-hdgSans c-hdgSans_2\"><a href=\"https://www.poetryfoundation.org/poems/52885/crying-in-front-of-a-man\">Crying in Front of a Man</a>\\n</h2>,\n",
       " <h2 class=\"c-hdgSans c-hdgSans_2\"><a href=\"https://www.poetryfoundation.org/poems/55261/the-blind-man-56d236a5e1ac2\">The Blind Man</a>\\n</h2>,\n",
       " <h2 class=\"c-hdgSans c-hdgSans_2\"><a href=\"https://www.poetryfoundation.org/poetrymagazine/poems/90280/dawn-of-man\">Dawn of Man</a>\\n</h2>,\n",
       " <h2 class=\"c-hdgSans c-hdgSans_2\"><a href=\"https://www.poetryfoundation.org/poems/43754/an-epistle-containing-the-strange-medical-experience-of-karshish-the-arab-physician\">An Epistle Containing the Strange Medical Experience of Karshish, the Arab Physician</a>\\n</h2>,\n",
       " <h2 class=\"c-hdgSans c-hdgSans_2\"><a href=\"https://www.poetryfoundation.org/poetrymagazine/poems/58361/drybridge\">Drybridge</a>\\n</h2>,\n",
       " <h2 class=\"c-hdgSans c-hdgSans_2\"><a href=\"https://www.poetryfoundation.org/poems/52939/big-city\">Big City</a>\\n</h2>,\n",
       " <h2 class=\"c-hdgSans c-hdgSans_2\"><a href=\"https://www.poetryfoundation.org/poetrymagazine/poems/51703/sad-and-alone\">Sad and Alone</a>\\n</h2>,\n",
       " <h2 class=\"c-hdgSans c-hdgSans_2\"><a href=\"https://www.poetryfoundation.org/poems/52785/spinning-56d231894ee8b\">Spinning</a>\\n</h2>,\n",
       " <h2 class=\"c-hdgSans c-hdgSans_2\"><a href=\"https://www.poetryfoundation.org/poetrymagazine/poems/54655/the-land-of-nod-56d23541314b1\">The Land of Nod</a>\\n</h2>,\n",
       " <h2 class=\"c-hdgSans c-hdgSans_2\"><a href=\"https://www.poetryfoundation.org/poetrymagazine/poems/92389/the-process-589363fbd1dc9\">The Process</a>\\n</h2>,\n",
       " <h2 class=\"c-hdgSans c-hdgSans_2\"><a href=\"https://www.poetryfoundation.org/poems/43752/a-death-in-the-desert-56d222942c57c\">A Death in the Desert</a>\\n</h2>,\n",
       " <h2 class=\"c-hdgSans c-hdgSans_2\"><a href=\"https://www.poetryfoundation.org/poems/45745/paradise-lost-book-9-1674-version\"><em>Paradise Lost</em>: Book \\xa09 (1674 version)</a>\\n</h2>,\n",
       " <h2 class=\"c-hdgSans c-hdgSans_2\"><a href=\"https://www.poetryfoundation.org/poems/45307/the-triumph-of-time-56d224c3d1e6c\">The Triumph of Time</a>\\n</h2>,\n",
       " <h2 class=\"c-hdgSans c-hdgSans_2\"><a href=\"https://www.poetryfoundation.org/poems/46374/the-american-way\">The American Way</a>\\n</h2>,\n",
       " <h2 class=\"c-hdgSans c-hdgSans_2\"><a href=\"https://www.poetryfoundation.org/poems/45748/paradise-lost-book-12-1674-version\"><em>Paradise Lost</em>: Book 12 (1674 version)</a>\\n</h2>,\n",
       " <h2 class=\"c-hdgSans c-hdgSans_2\"><a href=\"https://www.poetryfoundation.org/poems/45295/laus-veneris\">Laus Veneris</a>\\n</h2>,\n",
       " <h2 class=\"c-hdgSans c-hdgSans_2\"><a href=\"https://www.poetryfoundation.org/poems/44172/absalom-and-achitophel\">Absalom and Achitophel</a>\\n</h2>]"
      ]
     },
     "execution_count": 22,
     "metadata": {},
     "output_type": "execute_result"
    }
   ],
   "source": [
    "get_links(\"https://www.poetryfoundation.org/search?query=grown%20man&refinement=poems\")"
   ]
  },
  {
   "cell_type": "code",
   "execution_count": null,
   "metadata": {
    "collapsed": true
   },
   "outputs": [],
   "source": []
  }
 ],
 "metadata": {
  "kernelspec": {
   "display_name": "Python 2",
   "language": "python",
   "name": "python2"
  },
  "language_info": {
   "codemirror_mode": {
    "name": "ipython",
    "version": 2
   },
   "file_extension": ".py",
   "mimetype": "text/x-python",
   "name": "python",
   "nbconvert_exporter": "python",
   "pygments_lexer": "ipython2",
   "version": "2.7.14"
  }
 },
 "nbformat": 4,
 "nbformat_minor": 2
}
