{
 "cells": [
  {
   "cell_type": "code",
   "execution_count": null,
   "metadata": {},
   "outputs": [
    {
     "name": "stderr",
     "output_type": "stream",
     "text": [
      "Using TensorFlow backend.\n"
     ]
    }
   ],
   "source": [
    "from __future__ import print_function\n",
    "from keras.callbacks import LambdaCallback\n",
    "from keras.models import Sequential\n",
    "from keras.layers import Dense, Activation\n",
    "from keras.layers import LSTM\n",
    "from keras.optimizers import RMSprop\n",
    "from keras.utils.data_utils import get_file\n",
    "import numpy as np\n",
    "import random\n",
    "import sys\n",
    "import io"
   ]
  },
  {
   "cell_type": "code",
   "execution_count": null,
   "metadata": {
    "collapsed": true
   },
   "outputs": [],
   "source": [
    "import re"
   ]
  },
  {
   "cell_type": "code",
   "execution_count": null,
   "metadata": {},
   "outputs": [],
   "source": [
    "input_file = \"angst-data/input3.txt\"\n",
    "file = open(input_file, \"r\") \n",
    "text = file.read() \n",
    "print('corpus length:', len(text))"
   ]
  },
  {
   "cell_type": "code",
   "execution_count": null,
   "metadata": {},
   "outputs": [],
   "source": [
    "chars = sorted(list(set(text)))\n",
    "print('total chars:', len(chars))\n",
    "char_indices = dict((c, i) for i, c in enumerate(chars))\n",
    "indices_char = dict((i, c) for i, c in enumerate(chars))\n",
    "chars"
   ]
  },
  {
   "cell_type": "code",
   "execution_count": null,
   "metadata": {},
   "outputs": [],
   "source": [
    "## Chopping the text up into strings of 40 characters to train on\n",
    "maxlen = 40\n",
    "step = 3\n",
    "sentences = []\n",
    "next_chars = []\n",
    "for i in range(0, len(text) - maxlen, step):\n",
    "    sentences.append(text[i: i + maxlen])\n",
    "    next_chars.append(text[i + maxlen])\n",
    "print('nb sequences:', len(sentences))"
   ]
  },
  {
   "cell_type": "code",
   "execution_count": null,
   "metadata": {
    "collapsed": true
   },
   "outputs": [],
   "source": [
    "## Vectorizing our sequences\n",
    "x = np.zeros((len(sentences), maxlen, len(chars)), dtype=np.bool)\n",
    "y = np.zeros((len(sentences), len(chars)), dtype=np.bool)\n",
    "for i, sentence in enumerate(sentences):\n",
    "    for t, char in enumerate(sentence):\n",
    "        x[i, t, char_indices[char]] = 1\n",
    "    y[i, char_indices[next_chars[i]]] = 1"
   ]
  },
  {
   "cell_type": "code",
   "execution_count": null,
   "metadata": {},
   "outputs": [],
   "source": [
    "## We're designing our model here- choosing the number of layers and such\n",
    "print('Build model...')\n",
    "model = Sequential()\n",
    "model.add(LSTM(128, input_shape=(maxlen, len(chars))))\n",
    "model.add(Dense(len(chars)))\n",
    "model.add(Activation('softmax'))\n",
    "\n",
    "optimizer = RMSprop(lr=0.01)\n",
    "model.compile(loss='categorical_crossentropy', optimizer=optimizer)"
   ]
  },
  {
   "cell_type": "code",
   "execution_count": null,
   "metadata": {
    "collapsed": true
   },
   "outputs": [],
   "source": [
    "def sample(preds, temperature=1.0):\n",
    "    preds = np.asarray(preds).astype('float64')\n",
    "    preds = np.log(preds) / temperature\n",
    "    exp_preds = np.exp(preds)\n",
    "    preds = exp_preds / np.sum(exp_preds)\n",
    "    probas = np.random.multinomial(1, preds, 1)\n",
    "    return np.argmax(probas)\n",
    "\n",
    "## Showing the poetry quality at the end of each epoch\n",
    "def on_epoch_end(epoch, logs):\n",
    "    print()\n",
    "    print('----- Generating text after Epoch: %d' % epoch)\n",
    "\n",
    "    start_index = random.randint(0, len(text) - maxlen - 1)\n",
    "    for diversity in [0.2, 0.5, 1.0, 1.2]:\n",
    "        print('----- diversity:', diversity)\n",
    "\n",
    "        generated = ''\n",
    "        sentence = text[start_index: start_index + maxlen]\n",
    "        generated += sentence\n",
    "        print('----- Generating with seed: \"' + sentence + '\"')\n",
    "        sys.stdout.write(generated)\n",
    "        ## What we're doing is giving the bot 40 characters and asking\n",
    "        ## it to predict the 41st character, over and over\n",
    "        for i in range(400):\n",
    "            x_pred = np.zeros((1, maxlen, len(chars)))\n",
    "            for t, char in enumerate(sentence):\n",
    "                x_pred[0, t, char_indices[char]] = 1.\n",
    "\n",
    "            preds = model.predict(x_pred, verbose=0)[0]\n",
    "            next_index = sample(preds, diversity)\n",
    "            next_char = indices_char[next_index]\n",
    "\n",
    "            generated += next_char\n",
    "            sentence = sentence[1:] + next_char\n",
    "\n",
    "            sys.stdout.write(next_char)\n",
    "            sys.stdout.flush()\n",
    "        print()"
   ]
  },
  {
   "cell_type": "code",
   "execution_count": null,
   "metadata": {},
   "outputs": [],
   "source": [
    "print_callback = LambdaCallback(on_epoch_end=on_epoch_end)\n",
    "\n",
    "## Here's where we train the model on our data\n",
    "model.fit(x, y,\n",
    "          batch_size=128,\n",
    "          epochs=60,\n",
    "          callbacks=[print_callback])"
   ]
  },
  {
   "cell_type": "code",
   "execution_count": null,
   "metadata": {
    "collapsed": true
   },
   "outputs": [],
   "source": [
    "model.save('angst3.h5')"
   ]
  },
  {
   "cell_type": "code",
   "execution_count": 16,
   "metadata": {
    "scrolled": false
   },
   "outputs": [
    {
     "name": "stdout",
     "output_type": "stream",
     "text": [
      "----- diversity: 0.2\n",
      "----- Generating with seed: \"Along the shore the cloud waves break, t\"\n",
      "Along the shore the cloud waves break, the sea-equas\n",
      "\n",
      "The swands the strange my story the sun and wall\n",
      "\n",
      "The still of strangers and strangers and star;\n",
      "Is the strange the sun and some bright and silent man born\n",
      "\n",
      "and silent the shades of my hearth is shades of the strange\n",
      "\n",
      "and so the strange the strange the strange the sigh\n",
      "the heart and a strange the side, \n",
      "\n",
      "The strange my seasones and start, the strange the dream \n",
      "The sigh the side of the same sighs the strain \n",
      "\n",
      "The silvers of the strange the sighs the strange the strain \n",
      "\n",
      "The silking a strange the strain the strange a strange the strange\n",
      "the strange and shadow spired the strange\n",
      "\n",
      "but a part of the strange the strange a sound,\n",
      "and some watch the sun in the strange a strange the sea,\n",
      "\n",
      "The silking to the strange the sun, \n",
      "\n",
      "The sighs the sidewarded of the season and silent black stare.\n",
      "\n",
      "The silver seems the seat the mother short\n",
      "\n",
      "whist the sun in the sky like the strange\n",
      "\n",
      "where the strange with the strange and some smalles\n",
      "The sighs the side of the strange with the strange\n",
      "the \n",
      "----- diversity: 0.5\n",
      "----- Generating with seed: \"Along the shore the cloud waves break, t\"\n",
      "Along the shore the cloud waves break, the complate\n",
      "I was the thought the night worlds of the seems\n",
      "of the morning consuding freeze.\n",
      "\n",
      "In the dream of the park, and many toes bend \n",
      "The light and the search\n",
      "\n",
      "son and her morning of immorneation of the world\n",
      "\n",
      "Strain his change the dreams of the same stranger,\n",
      "his die, what is my mother of my age\n",
      "play, the warted on the that would smaughts\n",
      "    With his world of still the search\n",
      "I smatter a miracle hands begging blood.\n",
      "\n",
      "In the dead pain as the dropped in hell it the doctoot and sewant the pity.\n",
      "\n",
      "The world at the cry and one still dream.\n",
      "\n",
      "And the blacks of stick of read,\n",
      "The sun out the strange diest of the star-blown in sewant and play.\n",
      "\n",
      "Oh, and sobbed the door of t"
     ]
    },
    {
     "name": "stderr",
     "output_type": "stream",
     "text": [
      "/home/marykate/anaconda3/lib/python3.6/site-packages/ipykernel_launcher.py:3: RuntimeWarning: divide by zero encountered in log\n",
      "  This is separate from the ipykernel package so we can avoid doing imports until\n"
     ]
    },
    {
     "name": "stdout",
     "output_type": "stream",
     "text": [
      "he seemed strain and summer slight good of the stopped the sunsetings\n",
      "What have have to see the strange in sun love\n",
      "it grasp best a life start bepper that was the window\n",
      "\n",
      "the world of the patiaus and silent beated to see a good. \n",
      "\n",
      "The they connection, some fight and small water,\n",
      "\n",
      "where light as if seem. \n",
      "\n",
      "What he sav, \n",
      "\n",
      "----- diversity: 1.0\n",
      "----- Generating with seed: \"Along the shore the cloud waves break, t\"\n",
      "Along the shore the cloud waves break, the tappore,\n",
      "One op along as hid bringed got on, \n",
      "And only of spience is, phosogless in in thework mome must,\n",
      "an chance we nights in she was take into a age. \n",
      "as their in. I want on pitterers\n",
      "\n",
      "Or lear out with fly, As the sun, where a across a clastales\n",
      "of turn. New of strange\n",
      "    And night sew he would work\n",
      "and camifrmbity young down the strumme the big to teat ot,\n",
      "I\n",
      "can be my heacy in a scide\n",
      "That smother of you widnes in your hught\n",
      "A diffor his elishoush of light\n",
      "farther, people asleeps somef,\n",
      "Incaus, sourds and sunk ways; \n",
      "Oblate farmits of science and wrate op and came of black.\n",
      "\n",
      "I like cubhemable the other side;\n",
      "With an most to the world\n",
      " bearing waking the one linens, with the spese,\n",
      "The troat, shood, cupils\n",
      "of the sestice ubbed only she where a gutter\n",
      "To hoon: the long.\n",
      "He is a pulsing of the parally be poscivion\n",
      "dave fore, the next the gods\n",
      "is mountairs inks or amalth hearther like a shunged sipples a stafe, \n",
      "if it at you quishly knave away.\n",
      "He releact onatu?h \n",
      "that what meands\n",
      "----- diversity: 1.2\n",
      "----- Generating with seed: \"Along the shore the cloud waves break, t\"\n",
      "Along the shore the cloud waves break, there and fokings last\n",
      "\n",
      "sons and drinks two of armor whee unpaerth theres had burnosl? The another beked that cease from brisk \n",
      "To handsaflift of empty best his vess and right; \n",
      "Gabbodist nightly the other,\n",
      "In my lust that snears of what is remember in\n",
      "Sirs out humiasd. the pagely on using is fluver\n",
      "With seemard, sunjays th to beades\n",
      "by beece from speak oacticu,\n",
      "poosed and if pit is it, tiker\n",
      "Borathby beerness a sion summer to tempeuse \n",
      "Dornn my icco head ol the good of us\n",
      "Or sobbed my eagric nothing a birs upon the airly with twary,\n",
      "Evectous an pabe. \n",
      "beed you lovedncid to the sides would like stay,\n",
      "And balming no light love, ddoving be instid reey \n",
      "Blanlless could bright\n",
      "\n",
      "my illeo perbeace unac-bgiy wist of immornhighclow bachide. strait\n",
      "Straw was to friendarese in the hunger, acrowns,\n",
      "Scurs-blatches\n",
      "in beecling together light ylowndown mar\n",
      "     Is thron dreamts.\n",
      "Forjose it powned,\n",
      "As for the burnuses, unpeass inninxuawly chist-orutw,\n",
      "secindered my says apread,\n",
      "cropt a wood in his bid\n"
     ]
    }
   ],
   "source": [
    "## Here is where you can actually use the model on a given piece of text!\n",
    "\n",
    "for diversity in [0.2, 0.5, 1.0, 1.2]:\n",
    "        print('----- diversity:', diversity)\n",
    "\n",
    "        generated = ''\n",
    "        sentence = 'Along the shore the cloud waves break, t'\n",
    "        generated += sentence\n",
    "        print('----- Generating with seed: \"' + sentence + '\"')\n",
    "        sys.stdout.write(generated)\n",
    "\n",
    "        for i in range(1000):\n",
    "            x_pred = np.zeros((1, maxlen, len(chars)))\n",
    "            for t, char in enumerate(sentence):\n",
    "                x_pred[0, t, char_indices[char]] = 1.\n",
    "\n",
    "            preds = model.predict(x_pred, verbose=0)[0]\n",
    "            next_index = sample(preds, diversity)\n",
    "            next_char = indices_char[next_index]\n",
    "\n",
    "            generated += next_char\n",
    "            sentence = sentence[1:] + next_char\n",
    "\n",
    "            sys.stdout.write(next_char)\n",
    "            sys.stdout.flush()\n",
    "        print()"
   ]
  },
  {
   "cell_type": "code",
   "execution_count": null,
   "metadata": {
    "collapsed": true
   },
   "outputs": [],
   "source": []
  }
 ],
 "metadata": {
  "kernelspec": {
   "display_name": "Python 2",
   "language": "python",
   "name": "python2"
  },
  "language_info": {
   "codemirror_mode": {
    "name": "ipython",
    "version": 2
   },
   "file_extension": ".py",
   "mimetype": "text/x-python",
   "name": "python",
   "nbconvert_exporter": "python",
   "pygments_lexer": "ipython2",
   "version": "2.7.14"
  }
 },
 "nbformat": 4,
 "nbformat_minor": 2
}
