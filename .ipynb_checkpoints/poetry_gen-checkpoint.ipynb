{
 "cells": [
  {
   "cell_type": "code",
   "execution_count": 1,
   "metadata": {},
   "outputs": [
    {
     "name": "stderr",
     "output_type": "stream",
     "text": [
      "Using TensorFlow backend.\n"
     ]
    }
   ],
   "source": [
    "from __future__ import print_function\n",
    "from keras.callbacks import LambdaCallback\n",
    "from keras.models import Sequential\n",
    "from keras.layers import Dense, Activation\n",
    "from keras.layers import LSTM\n",
    "from keras.optimizers import RMSprop\n",
    "from keras.utils.data_utils import get_file\n",
    "import numpy as np\n",
    "import random\n",
    "import sys\n",
    "import io"
   ]
  },
  {
   "cell_type": "code",
   "execution_count": 5,
   "metadata": {
    "collapsed": true
   },
   "outputs": [],
   "source": [
    "import re"
   ]
  },
  {
   "cell_type": "code",
   "execution_count": 15,
   "metadata": {},
   "outputs": [
    {
     "name": "stdout",
     "output_type": "stream",
     "text": [
      "corpus length: 464826\n"
     ]
    }
   ],
   "source": [
    "input_file = \"sheep-data/input2.txt\"\n",
    "file = open(input_file, \"r\") \n",
    "text = file.read() \n",
    "print('corpus length:', len(text))"
   ]
  },
  {
   "cell_type": "code",
   "execution_count": 17,
   "metadata": {},
   "outputs": [
    {
     "name": "stdout",
     "output_type": "stream",
     "text": [
      "total chars: 84\n"
     ]
    }
   ],
   "source": [
    "chars = sorted(list(set(text)))\n",
    "print('total chars:', len(chars))\n",
    "char_indices = dict((c, i) for i, c in enumerate(chars))\n",
    "indices_char = dict((i, c) for i, c in enumerate(chars))"
   ]
  },
  {
   "cell_type": "code",
   "execution_count": 18,
   "metadata": {},
   "outputs": [
    {
     "name": "stdout",
     "output_type": "stream",
     "text": [
      "nb sequences: 154929\n"
     ]
    }
   ],
   "source": [
    "## Chopping the text up into strings of 40 characters to train on\n",
    "maxlen = 40\n",
    "step = 3\n",
    "sentences = []\n",
    "next_chars = []\n",
    "for i in range(0, len(text) - maxlen, step):\n",
    "    sentences.append(text[i: i + maxlen])\n",
    "    next_chars.append(text[i + maxlen])\n",
    "print('nb sequences:', len(sentences))"
   ]
  },
  {
   "cell_type": "code",
   "execution_count": 19,
   "metadata": {},
   "outputs": [],
   "source": [
    "## Vectorizing our sequences\n",
    "x = np.zeros((len(sentences), maxlen, len(chars)), dtype=np.bool)\n",
    "y = np.zeros((len(sentences), len(chars)), dtype=np.bool)\n",
    "for i, sentence in enumerate(sentences):\n",
    "    for t, char in enumerate(sentence):\n",
    "        x[i, t, char_indices[char]] = 1\n",
    "    y[i, char_indices[next_chars[i]]] = 1"
   ]
  },
  {
   "cell_type": "code",
   "execution_count": 20,
   "metadata": {},
   "outputs": [
    {
     "name": "stdout",
     "output_type": "stream",
     "text": [
      "Build model...\n"
     ]
    }
   ],
   "source": [
    "## We're designing our model here- choosing the number of layers and such\n",
    "print('Build model...')\n",
    "model = Sequential()\n",
    "model.add(LSTM(128, input_shape=(maxlen, len(chars))))\n",
    "model.add(Dense(len(chars)))\n",
    "model.add(Activation('softmax'))\n",
    "\n",
    "optimizer = RMSprop(lr=0.01)\n",
    "model.compile(loss='categorical_crossentropy', optimizer=optimizer)"
   ]
  },
  {
   "cell_type": "code",
   "execution_count": 21,
   "metadata": {
    "collapsed": true
   },
   "outputs": [],
   "source": [
    "def sample(preds, temperature=1.0):\n",
    "    preds = np.asarray(preds).astype('float64')\n",
    "    preds = np.log(preds) / temperature\n",
    "    exp_preds = np.exp(preds)\n",
    "    preds = exp_preds / np.sum(exp_preds)\n",
    "    probas = np.random.multinomial(1, preds, 1)\n",
    "    return np.argmax(probas)\n",
    "\n",
    "## Showing the poetry quality at the end of each epoch\n",
    "def on_epoch_end(epoch, logs):\n",
    "    print()\n",
    "    print('----- Generating text after Epoch: %d' % epoch)\n",
    "\n",
    "    start_index = random.randint(0, len(text) - maxlen - 1)\n",
    "    for diversity in [0.2, 0.5, 1.0, 1.2]:\n",
    "        print('----- diversity:', diversity)\n",
    "\n",
    "        generated = ''\n",
    "        sentence = text[start_index: start_index + maxlen]\n",
    "        generated += sentence\n",
    "        print('----- Generating with seed: \"' + sentence + '\"')\n",
    "        sys.stdout.write(generated)\n",
    "        ## What we're doing is giving the bot 40 characters and asking\n",
    "        ## it to predict the 41st character, over and over\n",
    "        for i in range(400):\n",
    "            x_pred = np.zeros((1, maxlen, len(chars)))\n",
    "            for t, char in enumerate(sentence):\n",
    "                x_pred[0, t, char_indices[char]] = 1.\n",
    "\n",
    "            preds = model.predict(x_pred, verbose=0)[0]\n",
    "            next_index = sample(preds, diversity)\n",
    "            next_char = indices_char[next_index]\n",
    "\n",
    "            generated += next_char\n",
    "            sentence = sentence[1:] + next_char\n",
    "\n",
    "            sys.stdout.write(next_char)\n",
    "            sys.stdout.flush()\n",
    "        print()"
   ]
  },
  {
   "cell_type": "code",
   "execution_count": null,
   "metadata": {},
   "outputs": [
    {
     "name": "stdout",
     "output_type": "stream",
     "text": [
      "Epoch 1/60\n",
      "154880/154929 [============================>.] - ETA: 0s - loss: 2.1938\n",
      "----- Generating text after Epoch: 0\n",
      "----- diversity: 0.2\n",
      "----- Generating with seed: \"eenhouse where we'll see a green heron\n",
      "i\"\n",
      "eenhouse where we'll see a green heron\n",
      "in the with the sen the word and the sear the sheep\n",
      "The was the word the world the see the stree the word the mong the the shore the word the word the word the the the wark the wark the word the way the the the sen the sen the strow the word the his down the rese the sen the sang the sen the the stree the word the count the word the with the world the spree the sen the the the with the were the wor\n",
      "----- diversity: 0.5\n",
      "----- Generating with seed: \"eenhouse where we'll see a green heron\n",
      "i\"\n",
      "eenhouse where we'll see a green heron\n",
      "is the row the were, \n",
      "The would strees the moon be the light the mine in the strow the wath shee \n",
      "Some the world where the tore the word light and the see the shalf not for the wind of the wear the more\n",
      "whose the for with the lace\n",
      "than the sen all the cone is cance cane not the the dinger low,\n",
      "                                                                                                         \n",
      "----- diversity: 1.0\n",
      "----- Generating with seed: \"eenhouse where we'll see a green heron\n",
      "i\"\n",
      "eenhouse where we'll see a green heron\n",
      "ishen sheng mightl setle the coswers. sheld\n",
      "agh the nact as couon the may\n",
      "For re mugh the braggled,\n",
      "us maga. \n",
      "Where: the dugberes ooth whh shose us claces the dogell ther drouoh the conned the red the. \n",
      "there of tang of los, \n",
      "I bid op bloid sourid \n",
      "Thy her poirsishes the trouse rith most pilking the spuxplebbave thy frughing of the thinis,\n",
      "Beturmate the gred legs bryow spree let\n",
      "pre's is fary, wh \n",
      "----- diversity: 1.2\n",
      "----- Generating with seed: \"eenhouse where we'll see a green heron\n",
      "i\"\n",
      "eenhouse where we'll see a green heron\n",
      "in the know her not bit heif facmar thelose rignet, \n",
      "Waen eved catiret.\n",
      "Ae flowing know and knows,\n",
      "who sunkdis whishes and\n",
      "when, that os you  might\n",
      "in the lomg shrrtagom raigh\n",
      "Sit. fllesr lore If iy naws,\n",
      "Toowarthing thon dies wite ics, fragg verm\n",
      "un tees, lofa me s. ,\n",
      "r\n",
      "nefwee niteaty. \n",
      ",\n",
      "no greye Aes,\n",
      "terexchingly lide tree feg \n",
      "Cored oft art call,\n",
      "l niit of trys, tome uphive' fight.\n",
      "Tather he\n",
      "154929/154929 [==============================] - 227s 1ms/step - loss: 2.1936\n",
      "Epoch 2/60\n",
      "154880/154929 [============================>.] - ETA: 0s - loss: 1.9129\n",
      "----- Generating text after Epoch: 1\n",
      "----- diversity: 0.2\n",
      "----- Generating with seed: \"the old masters never got it wrong,\n",
      "But \"\n",
      "the old masters never got it wrong,\n",
      "But the summer the face and the sought the sun the sun the sought for the share and the sought a the farse a make of the side a sunse the spare and the slate the sun the beart a marred the share and the share a some to be the sun the sun the sun the slatery and the way \n",
      "A beart the sun the may of the stare of the sought a sun the falled a said, \n",
      "The could the sought the sought the could mare, \n",
      "And the\n",
      "----- diversity: 0.5\n",
      "----- Generating with seed: \"the old masters never got it wrong,\n",
      "But \"\n",
      "the old masters never got it wrong,\n",
      "But she word white the may the mountains discounts the slate a book, it was beath of the sime are bleast dickent starked is come the sought of other light god\n",
      "and ford the deartious of the shade.\n",
      "Where he many could the cailed a book and blace of the been the could god on the brook, sheep the child a sun the has a sad the Earth.\n",
      "I says as the soughts the stare-could mays of the summered at he fist bac\n",
      "----- diversity: 1.0\n",
      "----- Generating with seed: \"the old masters never got it wrong,\n",
      "But \"\n",
      "the old masters never got it wrong,\n",
      "But feem who Cellovers, the flucing a wild I catk fleeuriall laftlage harfily\n",
      "For grees by the earthral sunf: Forferens with its a burmo Paroch\n",
      "and behtare, I mnibamorousish feltere, leave, \n",
      "Heiness, ordhairs on wind like pone  how old founhs down my gaver's langeding ressent bronies that Frome.\n",
      "The days alout of a shous was ont of be twat bland\n",
      "us turrscharces as thouse cigule as a his troed \n",
      "down cl\n",
      "----- diversity: 1.2\n",
      "----- Generating with seed: \"the old masters never got it wrong,\n",
      "But \"\n",
      "the old masters never got it wrong,\n",
      "But on\n",
      "Cnmade-toust, clessing Vroiter\n",
      "nights cilwondear liocen, Thor ogrn, ins, wet se\n",
      "emasy, he smopeaoly,\n",
      "bady he di. \n",
      "A tine, jot welves, hor blaby, lait, who old wounds, soundal knots wwathing forner\n",
      "to their face\n",
      "This the yatung shideroon fleece the weltle roas \n",
      "Weld Many ightriots, faced isaxtly over \n",
      "urine. I was I creat\n",
      "aventsloss of though there than alnamilious, foors wild carkivisures. \n",
      "\n",
      "154929/154929 [==============================] - 233s 2ms/step - loss: 1.9129\n",
      "Epoch 3/60\n",
      "154880/154929 [============================>.] - ETA: 0s - loss: 1.8294\n",
      "----- Generating text after Epoch: 2\n",
      "----- diversity: 0.2\n",
      "----- Generating with seed: \"s the scent in every red and yellow rose\"\n",
      "s the scent in every red and yellow rose the start.\n",
      "And the sheep the start of the sheep and distone thing and the start\n",
      "and thine the said the stark the start, \n",
      "And the start the stear and the histrones of thine the start and thines of thine steep,\n",
      "and thine the start of thine the thing the start,\n",
      "and thine and sheep the way of thine things and thines and straight of thines the still the start.\n",
      "The start of the wind the start of thines\n",
      "----- diversity: 0.5\n",
      "----- Generating with seed: \"s the scent in every red and yellow rose\"\n",
      "s the scent in every red and yellow roses and cand by thine thos dear\n",
      "For stropped the day of thine think thine,\n",
      "and the through all the thing care the \n",
      "Shagon man thine things I was a foor her sheep\n",
      "that, and the start shows, and the streep\n",
      "the morning of the book then the sit \n",
      "And would rare conterder the prower chasts of thought cent of contictrist\n",
      "and the all the wind of this town the shream\n",
      "white, this earth his earth bring and fr\n",
      "----- diversity: 1.0\n",
      "----- Generating with seed: \"s the scent in every red and yellow rose\"\n",
      "s the scent in every red and yellow roses,\n",
      "Itseggifure, on they long Lording yher mete\n",
      "in the winding cicy. N.\n",
      "and gutche on the holkes dust\n",
      "cortaint we're goam on expratant alluds. \n",
      "Thou say ther, sheep thought have giver Primal on manight bowss. \n",
      "Rideriry to song high blarn on thine.\n",
      "Nother handyious mokehoul byluzes; jack and thir air, \n",
      "ilewert though our so stoostrablimy or, angind.\n",
      "For she, ed how that such waltacoonl folding I cou\n",
      "----- diversity: 1.2\n",
      "----- Generating with seed: \"s the scent in every red and yellow rose\"\n",
      "s the scent in every red and yellow rose flingens\n",
      " Whitcressed spywild,\n",
      "me trovidgos'd.\n",
      "sdriwe hath as wazed bew hat folless pid,\n",
      "and his lyal, peafull deef in hurt,\n",
      "hlistagl'd\n",
      "yellow the ill on the is, us.\n",
      "The kinf.\n",
      "Small dri in the kneesh, Gaint gole betwe s on frithling it compoed\n",
      "thiskeve knowery fills back Soon, lupdonies\n",
      "on.\n",
      "carke he sfer elusius, whity littleghdaint, thost of Abom,\n",
      "far a chinter of thoss wad\n",
      "chain'd world jabric\n",
      "154929/154929 [==============================] - 235s 2ms/step - loss: 1.8295\n",
      "Epoch 4/60\n",
      "154880/154929 [============================>.] - ETA: 0s - loss: 1.7793\n",
      "----- Generating text after Epoch: 3\n",
      "----- diversity: 0.2\n",
      "----- Generating with seed: \"n they themselves\n",
      "In single file they m\"\n",
      "n they themselves\n",
      "In single file they may the with the sheep.\n",
      "The sheep and the start and the start the lang the stare the start\n",
      "and stort the sheep with the sheep, and the start of the story band and beat \n",
      "And the start of the with the thinks and the sheep \n",
      "And she with the start the sheep with the stare the store the plain \n",
      "And the start the start the start that he can \n",
      "And the start that the start he spowers and the see \n",
      "And the sta\n",
      "----- diversity: 0.5\n",
      "----- Generating with seed: \"n they themselves\n",
      "In single file they m\"\n",
      "n they themselves\n",
      "In single file they must as the sings\n",
      "and clistane white with the worth the start to see \n",
      "one who sheep in the said, she as the see behind \n",
      "And who who through the might to more had the stand the resell the day \n",
      "\n",
      "The sheep, and the bound with its sheep\n",
      "in the course and cared his ring singed of the sheep\n",
      "And the morning to the grain the shore the sleep\n",
      "The sheep down with us the more him the sillies\n",
      " of the lange, \n",
      "An\n",
      "----- diversity: 1.0\n",
      "----- Generating with seed: \"n they themselves\n",
      "In single file they m\"\n",
      "n they themselves\n"
     ]
    },
    {
     "name": "stdout",
     "output_type": "stream",
     "text": [
      "In single file they mogenn -snow,\n",
      "And I had frinn their shord! Rusted and prinn.\n",
      "The swoed him gigness, rudants down snow crifts\n",
      "Above itselp nivel in palt joy when the went is\n",
      "and I the folling, to knswapling for sord,\n",
      "pard? Add the faces mole when three fall thriftly of welly\n",
      "hull, grand the was thon in hur\n",
      "girly joy, I came his sanges\n",
      "along that hors, with work a piet to cometel,\n",
      "Tholl stalle and bream insames st\n",
      "----- diversity: 1.2\n",
      "----- Generating with seed: \"n they themselves\n",
      "In single file they m\"\n",
      "n they themselves\n",
      "In single file they maybing's eal\n",
      "To thourol.\n",
      "Godiant; to fexping that glistenpow to beet hearty,\n",
      "his roonee, bund wallh oct,\n",
      "Rarn Is down orropers\n",
      "Stampting bundure of siketeasion fewrater for mist 'sing Chon thing:\n",
      "Terh dalable dow his hine, spendshool.\n",
      "Ruste winh in vife wore were\n",
      "exlangward-nablues by walk Alres.urur\n",
      "aak'd what my ymed from God'd \n",
      "While day, :'d lapiest. Dawsquir, so do sluli's by \n",
      "Oh bown tryfe\n",
      "154929/154929 [==============================] - 237s 2ms/step - loss: 1.7794\n",
      "Epoch 5/60\n",
      "  9472/154929 [>.............................] - ETA: 3:18 - loss: 1.7150"
     ]
    }
   ],
   "source": [
    "print_callback = LambdaCallback(on_epoch_end=on_epoch_end)\n",
    "\n",
    "## Here's where we train the model on our data\n",
    "model.fit(x, y,\n",
    "          batch_size=128,\n",
    "          epochs=60,\n",
    "          callbacks=[print_callback])"
   ]
  },
  {
   "cell_type": "code",
   "execution_count": null,
   "metadata": {
    "scrolled": false
   },
   "outputs": [],
   "source": [
    "## Here is where you can actually use the model on a given piece of text!\n",
    "\n",
    "for diversity in [0.2, 0.5, 1.0, 1.2]:\n",
    "        print('----- diversity:', diversity)\n",
    "\n",
    "        generated = ''\n",
    "        sentence = 'Under an angry moon baaaaaaaaaaaaaaaaaaaa'\n",
    "        generated += sentence\n",
    "        print('----- Generating with seed: \"' + sentence + '\"')\n",
    "        sys.stdout.write(generated)\n",
    "\n",
    "        for i in range(800):\n",
    "            x_pred = np.zeros((1, maxlen, len(chars)))\n",
    "            for t, char in enumerate(sentence):\n",
    "                x_pred[0, t, char_indices[char]] = 1.\n",
    "\n",
    "            preds = model.predict(x_pred, verbose=0)[0]\n",
    "            next_index = sample(preds, diversity)\n",
    "            next_char = indices_char[next_index]\n",
    "\n",
    "            generated += next_char\n",
    "            sentence = sentence[1:] + next_char\n",
    "\n",
    "            sys.stdout.write(next_char)\n",
    "            sys.stdout.flush()\n",
    "        print()"
   ]
  },
  {
   "cell_type": "code",
   "execution_count": null,
   "metadata": {
    "collapsed": true
   },
   "outputs": [],
   "source": []
  }
 ],
 "metadata": {
  "kernelspec": {
   "display_name": "Python 2",
   "language": "python",
   "name": "python2"
  }
 },
 "nbformat": 4,
 "nbformat_minor": 2
}
